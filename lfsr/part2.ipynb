{
 "cells": [
  {
   "cell_type": "code",
   "execution_count": 1,
   "metadata": {},
   "outputs": [],
   "source": [
    "import re\n",
    "import random as rd\n",
    "\n",
    "outputs = []\n",
    "for i in range(5):\n",
    "  # these are just large numbers to initialize 32bits\n",
    "  bitstring_one = (1 << 31) | rd.getrandbits(32)\n",
    "  bitstring_two = (1 << 31) | rd.getrandbits(32)\n",
    "  # print(\"{:32b}\".format(bitstring_one))\n",
    "  # print(\"{:32b}\\n\".format(bitstring_two))\n",
    "  curr_output = []\n",
    "  for i in range(10 ** 4):\n",
    "    curr_output.append((bitstring_one ^ bitstring_two) & 1)\n",
    "    # print(f\"{(bitstring_two >> 1) & 1} XOR {(bitstring_two >> 10) & 1}\")\n",
    "    bitstring_one_newbit = (bitstring_one ^ (bitstring_one >> 2) ^ (bitstring_one >> 3)) & 1\n",
    "    # print(f\"{(bitstring_two >> 7) & 1} XOR {(bitstring_two >> 13) & 1} XOR {(bitstring_two >> 30) & 1}\")\n",
    "    bitstring_two_newbit = (bitstring_two ^ (bitstring_two >> 1) ^ (bitstring_two >> 2) ^ (bitstring_two >> 3)) & 1\n",
    "\n",
    "    # assign new bit to position 31\n",
    "    bitstring_one = (bitstring_one >> 1) | (bitstring_one_newbit << 31)\n",
    "    bitstring_two = (bitstring_two >> 1) | (bitstring_two_newbit << 31)\n",
    "\n",
    "  # print(\"\\n{:32b} \".format(bitstring_one))\n",
    "  # print(\"{:32b} \".format(bitstring_two))\n",
    "  \n",
    "  outputs.append(curr_output)\n",
    "\n",
    "output_strings = []\n",
    "for output in outputs:\n",
    "  output_strings.append(''.join(map(str,output)))"
   ]
  },
  {
   "attachments": {},
   "cell_type": "markdown",
   "metadata": {},
   "source": [
    "##### according to the NIST SP 800-22:\n",
    "  - the likelyhood of a 1 should be 50% regardless of the pervious outputs. like a true conflip\n",
    "\n",
    "  - We can mathematically calculate the longest run of a 0 or 1 and compare the expected to our lfsr output. This is an indicator of the random performance of our lfsr\n",
    "\n",
    "  - in practice, calculate the expected length(i) repetitons of runs from 3 to 7 and compare to lfsr output.\n",
    "\n",
    "In our case, we are looking for repetitions of 0's with length 4,5 and 6. You made this section very easy because of your *hint*  \n",
    "using this formula *0.5^length+2* we can calculate the probability of 100001 when length=4.\n",
    "so there should be:\n",
    "  - 15.6 occurences for length=4 sequences (0.015625)\n",
    "  - 7.8 occurences for length=5 sequences (0.0078125)\n",
    "  - 3.9 occurences for length=6 sequences (0.00390625)\n"
   ]
  },
  {
   "attachments": {},
   "cell_type": "markdown",
   "metadata": {},
   "source": [
    "### overall distribution of 1s and 0s"
   ]
  },
  {
   "cell_type": "code",
   "execution_count": 2,
   "metadata": {},
   "outputs": [
    {
     "data": {
      "text/plain": [
       "[[4992, 5008], [5085, 4915], [4957, 5043], [5055, 4945], [5005, 4995]]"
      ]
     },
     "execution_count": 2,
     "metadata": {},
     "output_type": "execute_result"
    }
   ],
   "source": [
    "zero_one_occurences = [] # [0 count(0s), 1 is count(1s)]*len(output_strings)\n",
    "for output in output_strings:\n",
    "  curr_zero_one_occurences = []\n",
    "  curr_zero_one_occurences.append(output.count('0'))\n",
    "  curr_zero_one_occurences.append(output.count('1'))\n",
    "\n",
    "  zero_one_occurences.append(curr_zero_one_occurences)\n",
    "zero_one_occurences"
   ]
  },
  {
   "attachments": {},
   "cell_type": "markdown",
   "metadata": {},
   "source": [
    "0s and 1s are very even. thats great!  \n",
    "\n",
    "### get longest sequence of 0s and 1s"
   ]
  },
  {
   "cell_type": "code",
   "execution_count": 6,
   "metadata": {},
   "outputs": [
    {
     "data": {
      "text/plain": [
       "[[10, 13], [13, 12], [11, 10], [12, 11], [11, 11]]"
      ]
     },
     "execution_count": 6,
     "metadata": {},
     "output_type": "execute_result"
    }
   ],
   "source": [
    "longest_count_occurences = [] # [0 longest(0s), 1 is longest(1s)]*len(output_strings)\n",
    "for output in output_strings:\n",
    "  long_zero = 1\n",
    "  long_one = 1\n",
    "  curr_zero = 0\n",
    "  curr_one = 0\n",
    "  for char in output:\n",
    "    if(char == '0'):\n",
    "      curr_zero+=1\n",
    "      if curr_zero > long_zero: long_zero=curr_zero\n",
    "      curr_one = 0\n",
    "    if(char == '1'):\n",
    "      curr_one+=1\n",
    "      if curr_one > long_one: long_one=curr_one\n",
    "      curr_zero = 0\n",
    "\n",
    "  longest_count_occurences.append([long_zero, long_one])\n",
    "longest_count_occurences"
   ]
  },
  {
   "attachments": {},
   "cell_type": "markdown",
   "metadata": {},
   "source": [
    "the average length or a run is 11.\n",
    "the probability of just the 11 0s or 1s *0.5^11* (0.000488281)  \n",
    "chance is 0.5% so it should not be happening this consistently indicating our lfsr is not very random.  \n",
    "  \n",
    "if we incluse the leading and trailing inverse bit it is *0.5^13* (0.00012207)\n",
    "we really should not be seeing this length of sequential bits consistently.\n",
    "\n",
    "### frequency of length 3<i<7"
   ]
  },
  {
   "cell_type": "code",
   "execution_count": 85,
   "metadata": {},
   "outputs": [
    {
     "data": {
      "text/plain": [
       "[[145, 78, 26], [152, 67, 46], [157, 62, 38], [154, 79, 39], [150, 75, 32]]"
      ]
     },
     "execution_count": 85,
     "metadata": {},
     "output_type": "execute_result"
    }
   ],
   "source": [
    "sequences = [] # [0 is i=4, 1 is i=5, 2 is i=6]*len(output_strings)\n",
    "for output in output_strings:\n",
    "  curr_sequences = []\n",
    "  curr_sequences.append(len(re.findall(\"100001\",output)))\n",
    "  curr_sequences.append(len(re.findall(\"1000001\",output)))\n",
    "  curr_sequences.append(len(re.findall(\"10000001\",output)))\n",
    "\n",
    "  sequences.append(curr_sequences)\n",
    "sequences"
   ]
  },
  {
   "attachments": {},
   "cell_type": "markdown",
   "metadata": {},
   "source": [
    "#### resuts  \n",
    "our lfsr is really bad.\n",
    "I keep randomly changing the xor gates to see if we get better results, however, we still get roughly these resutls:  \n",
    "[[145, 78, 26], [152, 67, 46], [157, 62, 38], [154, 79, 39], [150, 75, 32]]  \n",
    "~150(100001), ~70(1000001), ~35(10000001)  \n",
    "it is not random and this would be insecure if it were implemented. could be completly cracked via reverse engineering.  \n",
    "We could do mathematical analysis to find the best starting values and best bits to use in feedback function for the longest cycle to get a useable lfsr."
   ]
  }
 ],
 "metadata": {
  "kernelspec": {
   "display_name": "Python 3",
   "language": "python",
   "name": "python3"
  },
  "language_info": {
   "codemirror_mode": {
    "name": "ipython",
    "version": 3
   },
   "file_extension": ".py",
   "mimetype": "text/x-python",
   "name": "python",
   "nbconvert_exporter": "python",
   "pygments_lexer": "ipython3",
   "version": "3.8.10"
  },
  "orig_nbformat": 4,
  "vscode": {
   "interpreter": {
    "hash": "916dbcbb3f70747c44a77c7bcd40155683ae19c65e1c03b4aa3499c5328201f1"
   }
  }
 },
 "nbformat": 4,
 "nbformat_minor": 2
}
